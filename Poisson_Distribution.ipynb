{
  "nbformat": 4,
  "nbformat_minor": 0,
  "metadata": {
    "colab": {
      "name": "Poisson Distribution.ipynb",
      "provenance": [],
      "collapsed_sections": [],
      "authorship_tag": "ABX9TyMDcHuMxwfFxbxxzvYPIe5w",
      "include_colab_link": true
    },
    "kernelspec": {
      "name": "python3",
      "display_name": "Python 3"
    },
    "language_info": {
      "name": "python"
    }
  },
  "cells": [
    {
      "cell_type": "markdown",
      "metadata": {
        "id": "view-in-github",
        "colab_type": "text"
      },
      "source": [
        "<a href=\"https://colab.research.google.com/github/kritikasaraswat99/Statistics/blob/main/Poisson_Distribution.ipynb\" target=\"_parent\"><img src=\"https://colab.research.google.com/assets/colab-badge.svg\" alt=\"Open In Colab\"/></a>"
      ]
    },
    {
      "cell_type": "markdown",
      "metadata": {
        "id": "Zs_RhM3seUSC"
      },
      "source": [
        "If on an average, 6 customers arrive every two minutes at a bank during the busy hours of working, a)what is the probability that exactly four customers arrive in a given number? b)What is the probabiity that more than 3 customers will arrive in the given minute?"
      ]
    },
    {
      "cell_type": "code",
      "metadata": {
        "id": "uhK6tVgscr4E"
      },
      "source": [
        "import numpy as np\n",
        "import scipy.stats as stats\n",
        "import matplotlib.pyplot as plt"
      ],
      "execution_count": 3,
      "outputs": []
    },
    {
      "cell_type": "code",
      "metadata": {
        "id": "IL9EwWUBc4c2"
      },
      "source": [
        "rate = 3"
      ],
      "execution_count": 4,
      "outputs": []
    },
    {
      "cell_type": "code",
      "metadata": {
        "id": "qvyRvY1_e6aM"
      },
      "source": [
        "n = np.arange(0,20)"
      ],
      "execution_count": 6,
      "outputs": []
    },
    {
      "cell_type": "code",
      "metadata": {
        "id": "BYPL_Lihe8-k"
      },
      "source": [
        "poisson = stats.poisson.pmf(n,rate)"
      ],
      "execution_count": 8,
      "outputs": []
    },
    {
      "cell_type": "code",
      "metadata": {
        "colab": {
          "base_uri": "https://localhost:8080/"
        },
        "id": "gUfMpGLsfEUy",
        "outputId": "d2f99d53-8fbc-45a5-9b3c-20745f82375f"
      },
      "source": [
        "poisson"
      ],
      "execution_count": 9,
      "outputs": [
        {
          "output_type": "execute_result",
          "data": {
            "text/plain": [
              "array([4.97870684e-02, 1.49361205e-01, 2.24041808e-01, 2.24041808e-01,\n",
              "       1.68031356e-01, 1.00818813e-01, 5.04094067e-02, 2.16040315e-02,\n",
              "       8.10151179e-03, 2.70050393e-03, 8.10151179e-04, 2.20950322e-04,\n",
              "       5.52375804e-05, 1.27471339e-05, 2.73152870e-06, 5.46305740e-07,\n",
              "       1.02432326e-07, 1.80762929e-08, 3.01271548e-09, 4.75691918e-10])"
            ]
          },
          "metadata": {},
          "execution_count": 9
        }
      ]
    },
    {
      "cell_type": "code",
      "metadata": {
        "colab": {
          "base_uri": "https://localhost:8080/"
        },
        "id": "oWMnwIfRfNTi",
        "outputId": "d8ddf084-2634-4830-91a6-8ee523a1dcdd"
      },
      "source": [
        "poisson[4] #exactly 4 customers arrive in a minute"
      ],
      "execution_count": 11,
      "outputs": [
        {
          "output_type": "execute_result",
          "data": {
            "text/plain": [
              "0.16803135574154085"
            ]
          },
          "metadata": {},
          "execution_count": 11
        }
      ]
    },
    {
      "cell_type": "code",
      "metadata": {
        "colab": {
          "base_uri": "https://localhost:8080/"
        },
        "id": "tWLMiGkxfdzR",
        "outputId": "b9defcdf-ab8c-484b-ac94-624f250be7f4"
      },
      "source": [
        "#more than 3 customers arriving in a minute\n",
        "\n",
        "1 - (poisson[0]+poisson[1]+poisson[2]+poisson[3])"
      ],
      "execution_count": 12,
      "outputs": [
        {
          "output_type": "execute_result",
          "data": {
            "text/plain": [
              "0.35276811121776874"
            ]
          },
          "metadata": {},
          "execution_count": 12
        }
      ]
    },
    {
      "cell_type": "code",
      "metadata": {
        "colab": {
          "base_uri": "https://localhost:8080/",
          "height": 310
        },
        "id": "U7Xyrj5cfztr",
        "outputId": "9e05b5ec-372f-4860-d0ee-4b5177b24c20"
      },
      "source": [
        "plt.plot(n,poisson,'o-')\n",
        "plt.title('Poisson: $\\lambda$ =%i' %rate)\n",
        "plt.xlabel('Number of Customer Arriving in a minute')\n",
        "plt.ylabel(\"Probability of number of Customers arriving in a minute\")\n",
        "plt.show()"
      ],
      "execution_count": 14,
      "outputs": [
        {
          "output_type": "display_data",
          "data": {
            "image/png": "[encoded data removed]",
            "text/plain": [
              "<Figure size 432x288 with 1 Axes>"
            ]
          },
          "metadata": {
            "needs_background": "light"
          }
        }
      ]
    },
    {
      "cell_type": "code",
      "metadata": {
        "id": "HqIC4QIdg2oE"
      },
      "source": [
        ""
      ],
      "execution_count": null,
      "outputs": []
    }
  ]
}