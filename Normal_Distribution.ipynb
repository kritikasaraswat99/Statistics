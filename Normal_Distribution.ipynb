{
  "nbformat": 4,
  "nbformat_minor": 0,
  "metadata": {
    "colab": {
      "name": "Normal Distribution.ipynb",
      "provenance": [],
      "collapsed_sections": [],
      "authorship_tag": "ABX9TyP8PfIRj2QHr2crrlYyZQdH",
      "include_colab_link": true
    },
    "kernelspec": {
      "name": "python3",
      "display_name": "Python 3"
    },
    "language_info": {
      "name": "python"
    }
  },
  "cells": [
    {
      "cell_type": "markdown",
      "metadata": {
        "id": "view-in-github",
        "colab_type": "text"
      },
      "source": [
        "<a href=\"https://colab.research.google.com/github/kritikasaraswat99/Statistics/blob/main/Normal_Distribution.ipynb\" target=\"_parent\"><img src=\"https://colab.research.google.com/assets/colab-badge.svg\" alt=\"Open In Colab\"/></a>"
      ]
    },
    {
      "cell_type": "markdown",
      "metadata": {
        "id": "dW3ZwsWEiKEA"
      },
      "source": [
        "The mean weight of a morning breakfast cereal pack is 0.295 kg. The random variable weight of the pack follows a normal distribution.\n",
        "\n",
        "a)What is the probability that the pack weighs less than 0.280 kg?\n",
        "\n",
        "b)What is the probability that the pack weighs more than 0.350 kg?\n",
        "\n",
        "c)What is the probability that the pack weighs between 0.260 kg to 0.340 kg?"
      ]
    },
    {
      "cell_type": "code",
      "metadata": {
        "id": "us9L-nOOhNMw"
      },
      "source": [
        "import pandas as pd\n",
        "import numpy as np\n",
        "import matplotlib.pyplot as plt\n",
        "import scipy.stats as stats"
      ],
      "execution_count": 4,
      "outputs": []
    },
    {
      "cell_type": "code",
      "metadata": {
        "colab": {
          "base_uri": "https://localhost:8080/"
        },
        "id": "io3p29SVjjfD",
        "outputId": "69b26c9e-dcc6-4aa9-d52a-27de5541a4be"
      },
      "source": [
        "#calculate the z value\n",
        "\n",
        "z=(0.280-0.295)/0.025\n",
        "z"
      ],
      "execution_count": 5,
      "outputs": [
        {
          "output_type": "execute_result",
          "data": {
            "text/plain": [
              "-0.5999999999999983"
            ]
          },
          "metadata": {},
          "execution_count": 5
        }
      ]
    },
    {
      "cell_type": "code",
      "metadata": {
        "colab": {
          "base_uri": "https://localhost:8080/"
        },
        "id": "taqaSeuolJCU",
        "outputId": "48436b83-d86c-440c-86e5-cc3972147ce9"
      },
      "source": [
        "#use the calculated z value to calculate the probability or the area under curve to the left of this z value\n",
        "\n",
        "stats.norm.cdf(z)"
      ],
      "execution_count": 6,
      "outputs": [
        {
          "output_type": "execute_result",
          "data": {
            "text/plain": [
              "0.2742531177500741"
            ]
          },
          "metadata": {},
          "execution_count": 6
        }
      ]
    },
    {
      "cell_type": "code",
      "metadata": {
        "colab": {
          "base_uri": "https://localhost:8080/"
        },
        "id": "_vbYrAvvnLaX",
        "outputId": "80c550fe-3fe2-40ab-a20e-97bb89004870"
      },
      "source": [
        "stats.norm.cdf(0.280,loc=0.295,scale=0.025)"
      ],
      "execution_count": 7,
      "outputs": [
        {
          "output_type": "execute_result",
          "data": {
            "text/plain": [
              "0.2742531177500741"
            ]
          },
          "metadata": {},
          "execution_count": 7
        }
      ]
    },
    {
      "cell_type": "code",
      "metadata": {
        "colab": {
          "base_uri": "https://localhost:8080/"
        },
        "id": "gLV9CJHpnh7b",
        "outputId": "a6c43651-f082-4793-a5ae-006f74309b33"
      },
      "source": [
        "1- stats.norm.cdf(0.340,loc=0.295,scale=0.025)-stats.norm.cdf(0.260,loc=0.295,scale=0.025)"
      ],
      "execution_count": 8,
      "outputs": [
        {
          "output_type": "execute_result",
          "data": {
            "text/plain": [
              "-0.04482634012084552"
            ]
          },
          "metadata": {},
          "execution_count": 8
        }
      ]
    },
    {
      "cell_type": "code",
      "metadata": {
        "colab": {
          "base_uri": "https://localhost:8080/"
        },
        "id": "BhEFnK8Pojgt",
        "outputId": "39aa9624-9a54-4a72-d667-5888e0f149dc"
      },
      "source": [
        "stats.norm.cdf(1)-stats.norm.cdf(-1)"
      ],
      "execution_count": 9,
      "outputs": [
        {
          "output_type": "execute_result",
          "data": {
            "text/plain": [
              "0.6826894921370859"
            ]
          },
          "metadata": {},
          "execution_count": 9
        }
      ]
    },
    {
      "cell_type": "code",
      "metadata": {
        "colab": {
          "base_uri": "https://localhost:8080/"
        },
        "id": "JINOHqGfoo2w",
        "outputId": "438137a8-9451-493c-ea37-b5e07598e356"
      },
      "source": [
        "stats.norm.cdf(2)-stats.norm.cdf(-2)"
      ],
      "execution_count": 10,
      "outputs": [
        {
          "output_type": "execute_result",
          "data": {
            "text/plain": [
              "0.9544997361036416"
            ]
          },
          "metadata": {},
          "execution_count": 10
        }
      ]
    },
    {
      "cell_type": "code",
      "metadata": {
        "colab": {
          "base_uri": "https://localhost:8080/"
        },
        "id": "lllQY3YOou03",
        "outputId": "a8b4609f-fa86-435c-dbc7-5dee682e373b"
      },
      "source": [
        "stats.norm.cdf(3)-stats.norm.cdf(-3)"
      ],
      "execution_count": 11,
      "outputs": [
        {
          "output_type": "execute_result",
          "data": {
            "text/plain": [
              "0.9973002039367398"
            ]
          },
          "metadata": {},
          "execution_count": 11
        }
      ]
    },
    {
      "cell_type": "code",
      "metadata": {
        "id": "_2xS5iixo3Pv"
      },
      "source": [
        ""
      ],
      "execution_count": null,
      "outputs": []
    }
  ]
}