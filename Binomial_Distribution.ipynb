{
  "nbformat": 4,
  "nbformat_minor": 0,
  "metadata": {
    "colab": {
      "name": "Binomial Distribution.ipynb",
      "provenance": [],
      "collapsed_sections": [],
      "authorship_tag": "ABX9TyMPvoIqChEsIEqLUKdKJymB",
      "include_colab_link": true
    },
    "kernelspec": {
      "name": "python3",
      "display_name": "Python 3"
    },
    "language_info": {
      "name": "python"
    }
  },
  "cells": [
    {
      "cell_type": "markdown",
      "metadata": {
        "id": "view-in-github",
        "colab_type": "text"
      },
      "source": [
        "<a href=\"https://colab.research.google.com/github/kritikasaraswat99/Statistics/blob/main/Binomial_Distribution.ipynb\" target=\"_parent\"><img src=\"https://colab.research.google.com/assets/colab-badge.svg\" alt=\"Open In Colab\"/></a>"
      ]
    },
    {
      "cell_type": "markdown",
      "metadata": {
        "id": "AEFDGw20O4fH"
      },
      "source": [
        "Binomial Distribution"
      ]
    },
    {
      "cell_type": "markdown",
      "metadata": {
        "id": "NUTQKJyZdQwR"
      },
      "source": [
        "A bank issues credit cards to customers under theb scheme of Master Card. Based on the past data, the bank has found out that 60% of all accounts pay on the time following the bill. if a sample of 7 accounts is selected at random from the current database, construct the binomial probability distribution of account paying on time."
      ]
    },
    {
      "cell_type": "code",
      "metadata": {
        "id": "1bjGXPITOTjo"
      },
      "source": [
        "import numpy as np\n",
        "import scipy.stats as stats\n",
        "import matplotlib.pyplot as plt"
      ],
      "execution_count": null,
      "outputs": []
    },
    {
      "cell_type": "code",
      "metadata": {
        "id": "JnT11wAAOh0R"
      },
      "source": [
        "n = 7 #number of trials"
      ],
      "execution_count": null,
      "outputs": []
    },
    {
      "cell_type": "code",
      "metadata": {
        "id": "aiZTZicpPJoC"
      },
      "source": [
        "p= 0.6 #probability of success for each trial is 60%"
      ],
      "execution_count": null,
      "outputs": []
    },
    {
      "cell_type": "code",
      "metadata": {
        "id": "ytFbjjDbPLK7"
      },
      "source": [
        "k = np.arange(0,8) #Return evenly spaced values within a given interval."
      ],
      "execution_count": null,
      "outputs": []
    },
    {
      "cell_type": "code",
      "metadata": {
        "colab": {
          "base_uri": "https://localhost:8080/"
        },
        "id": "Y_0c5Ea-PTKD",
        "outputId": "4facbf00-6e77-44bd-d6d1-6ba82865c379"
      },
      "source": [
        "k"
      ],
      "execution_count": null,
      "outputs": [
        {
          "output_type": "execute_result",
          "data": {
            "text/plain": [
              "array([0, 1, 2, 3, 4, 5, 6, 7])"
            ]
          },
          "metadata": {},
          "execution_count": 6
        }
      ]
    },
    {
      "cell_type": "code",
      "metadata": {
        "id": "RWsUN0LWPdHm"
      },
      "source": [
        "binomial = stats.binom.pmf(k,n,p)"
      ],
      "execution_count": null,
      "outputs": []
    },
    {
      "cell_type": "code",
      "metadata": {
        "colab": {
          "base_uri": "https://localhost:8080/"
        },
        "id": "Jt2dcRCKPzpn",
        "outputId": "29e0de73-a944-4c15-8237-86b29ef33aa5"
      },
      "source": [
        "binomial #it shows that chance that out of 7, nobody will pay there bills on time is 0.16%, 1 will pay bill on time is 1.7%, 3 will pay on time is 7.74% and so on..."
      ],
      "execution_count": null,
      "outputs": [
        {
          "output_type": "execute_result",
          "data": {
            "text/plain": [
              "array([0.0016384, 0.0172032, 0.0774144, 0.193536 , 0.290304 , 0.2612736,\n",
              "       0.1306368, 0.0279936])"
            ]
          },
          "metadata": {},
          "execution_count": 8
        }
      ]
    },
    {
      "cell_type": "code",
      "metadata": {
        "colab": {
          "base_uri": "https://localhost:8080/",
          "height": 297
        },
        "id": "aiaHLi5TP0ks",
        "outputId": "b0dc3d4d-6e0f-4a3b-a822-2ffc8bea7147"
      },
      "source": [
        "plt.plot(k,binomial,'o-')\n",
        "plt.title(\"Binomial: n =%i, p = %.2f\" % (n,p), fontsize = 15)\n",
        "plt.xlabel('Number of successes')\n",
        "plt.ylabel('Probability of Successes')\n",
        "plt.show()\n"
      ],
      "execution_count": null,
      "outputs": [
        {
          "output_type": "display_data",
          "data": {
            "image/png": "[encoded data removed]",
            "text/plain": [
              "<Figure size 432x288 with 1 Axes>"
            ]
          },
          "metadata": {
            "needs_background": "light"
          }
        }
      ]
    },
    {
      "cell_type": "code",
      "metadata": {
        "id": "r45tm1BWaG5W"
      },
      "source": [
        "n= len(binomial)"
      ],
      "execution_count": null,
      "outputs": []
    },
    {
      "cell_type": "code",
      "metadata": {
        "id": "H06-qriacIuS"
      },
      "source": [
        "n = np.arange(0,20)"
      ],
      "execution_count": null,
      "outputs": []
    },
    {
      "cell_type": "code",
      "metadata": {
        "id": "4alpCKVtcLat"
      },
      "source": [
        ""
      ],
      "execution_count": null,
      "outputs": []
    }
  ]
}